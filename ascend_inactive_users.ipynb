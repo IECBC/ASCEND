{
 "cells": [
  {
   "cell_type": "code",
   "execution_count": 1,
   "id": "9da9849b-5af2-498f-bc8b-b7d941f45b0b",
   "metadata": {},
   "outputs": [],
   "source": [
    "# Import the necessary modules\n",
    "\n",
    "import pandas as pd  # For data manipulation and analysis\n",
    "import numpy as np  # For numerical computations\n",
    "\n",
    "import matplotlib.pyplot as plt  # For plotting\n",
    "import seaborn as sns  # For statistical data visualization"
   ]
  },
  {
   "cell_type": "code",
   "execution_count": 3,
   "id": "1e68b17e-30d6-47b4-8341-e65a5333ce0f",
   "metadata": {},
   "outputs": [
    {
     "data": {
      "text/html": [
       "<div>\n",
       "<style scoped>\n",
       "    .dataframe tbody tr th:only-of-type {\n",
       "        vertical-align: middle;\n",
       "    }\n",
       "\n",
       "    .dataframe tbody tr th {\n",
       "        vertical-align: top;\n",
       "    }\n",
       "\n",
       "    .dataframe thead th {\n",
       "        text-align: right;\n",
       "    }\n",
       "</style>\n",
       "<table border=\"1\" class=\"dataframe\">\n",
       "  <thead>\n",
       "    <tr style=\"text-align: right;\">\n",
       "      <th></th>\n",
       "      <th>LAST NAME</th>\n",
       "      <th>FIRST NAME</th>\n",
       "      <th>USERNAME</th>\n",
       "      <th>EMAIL ADDRESS</th>\n",
       "      <th>DEPARTMENT</th>\n",
       "    </tr>\n",
       "  </thead>\n",
       "  <tbody>\n",
       "    <tr>\n",
       "      <th>0</th>\n",
       "      <td>@DCTG</td>\n",
       "      <td>Career Paths</td>\n",
       "      <td>careerpaths1@douglascollege.ca</td>\n",
       "      <td>NaN</td>\n",
       "      <td>DC Facilitators</td>\n",
       "    </tr>\n",
       "    <tr>\n",
       "      <th>1</th>\n",
       "      <td>1</td>\n",
       "      <td>Admin</td>\n",
       "      <td>kis-facilitator@ascend.com</td>\n",
       "      <td>kis-facilitator@ascend.com</td>\n",
       "      <td>KIS Facilitator</td>\n",
       "    </tr>\n",
       "    <tr>\n",
       "      <th>2</th>\n",
       "      <td>1</td>\n",
       "      <td>Admin</td>\n",
       "      <td>pics-facilitator@ascend.com</td>\n",
       "      <td>pics-facilitator@ascend.com</td>\n",
       "      <td>PICS Facilitators</td>\n",
       "    </tr>\n",
       "    <tr>\n",
       "      <th>3</th>\n",
       "      <td>1</td>\n",
       "      <td>Admin</td>\n",
       "      <td>west-ewe-facilitator@ascend.com</td>\n",
       "      <td>west-ewe-facilitator@ascend.com</td>\n",
       "      <td>WEST Facilitator</td>\n",
       "    </tr>\n",
       "    <tr>\n",
       "      <th>4</th>\n",
       "      <td>1</td>\n",
       "      <td>Admin</td>\n",
       "      <td>ciwa-facilitator@ascend.com</td>\n",
       "      <td>ciwa-facilitator@ascend.com</td>\n",
       "      <td>CIWA Facilitators</td>\n",
       "    </tr>\n",
       "  </tbody>\n",
       "</table>\n",
       "</div>"
      ],
      "text/plain": [
       "  LAST NAME    FIRST NAME                         USERNAME  \\\n",
       "0     @DCTG  Career Paths   careerpaths1@douglascollege.ca   \n",
       "1         1         Admin       kis-facilitator@ascend.com   \n",
       "2         1         Admin      pics-facilitator@ascend.com   \n",
       "3         1         Admin  west-ewe-facilitator@ascend.com   \n",
       "4         1         Admin      ciwa-facilitator@ascend.com   \n",
       "\n",
       "                     EMAIL ADDRESS          DEPARTMENT  \n",
       "0                              NaN    DC Facilitators   \n",
       "1       kis-facilitator@ascend.com     KIS Facilitator  \n",
       "2      pics-facilitator@ascend.com  PICS Facilitators   \n",
       "3  west-ewe-facilitator@ascend.com    WEST Facilitator  \n",
       "4      ciwa-facilitator@ascend.com   CIWA Facilitators  "
      ]
     },
     "execution_count": 3,
     "metadata": {},
     "output_type": "execute_result"
    }
   ],
   "source": [
    "# Load the dataset\n",
    "\n",
    "ascend_inactive_users = pd.read_csv('C:/Users/BrindhaGanesan/OneDrive - IMMIGRANT EMPLOYMENT COUNCIL OF BC SOCIETY/Documents/ASCEND/Datasets/ascend_inactive_users.csv')\n",
    "ascend_inactive_users.head()\n"
   ]
  },
  {
   "cell_type": "code",
   "execution_count": 5,
   "id": "5004aafe-3290-40ff-ae91-15569ba95aba",
   "metadata": {},
   "outputs": [
    {
     "name": "stdout",
     "output_type": "stream",
     "text": [
      "<class 'pandas.core.frame.DataFrame'>\n",
      "RangeIndex: 3324 entries, 0 to 3323\n",
      "Data columns (total 5 columns):\n",
      " #   Column         Non-Null Count  Dtype \n",
      "---  ------         --------------  ----- \n",
      " 0   LAST NAME      3324 non-null   object\n",
      " 1   FIRST NAME     3324 non-null   object\n",
      " 2   USERNAME       3324 non-null   object\n",
      " 3   EMAIL ADDRESS  3316 non-null   object\n",
      " 4   DEPARTMENT     3324 non-null   object\n",
      "dtypes: object(5)\n",
      "memory usage: 130.0+ KB\n"
     ]
    }
   ],
   "source": [
    "ascend_inactive_users.info()"
   ]
  },
  {
   "cell_type": "code",
   "execution_count": 7,
   "id": "e5a79591-838a-4a14-8b97-27b81bf9b3a0",
   "metadata": {},
   "outputs": [
    {
     "data": {
      "text/plain": [
       "(3324, 5)"
      ]
     },
     "execution_count": 7,
     "metadata": {},
     "output_type": "execute_result"
    }
   ],
   "source": [
    "ascend_inactive_users.shape"
   ]
  },
  {
   "cell_type": "code",
   "execution_count": 9,
   "id": "461da3ba-58f8-400b-9e83-b2b88b89a764",
   "metadata": {},
   "outputs": [
    {
     "data": {
      "text/plain": [
       "DEPARTMENT\n",
       "Northeastern University (NU)                                 508\n",
       "Regina Immigrant Women's Centre (RIWC)                       290\n",
       "Individual ASCEND participants                               179\n",
       "SDECB                                                        172\n",
       "Women's Enterprise Skills Training of Windsor Inc. (WEST)    145\n",
       "                                                            ... \n",
       "FRAP Facilitators                                              1\n",
       "ASCEND French Facilitators                                     1\n",
       "CDENE Facilitators                                             1\n",
       "Skeena Facilitators                                            1\n",
       "Testing usernames                                              1\n",
       "Name: count, Length: 106, dtype: int64"
      ]
     },
     "execution_count": 9,
     "metadata": {},
     "output_type": "execute_result"
    }
   ],
   "source": [
    "ascend_inactive_users['DEPARTMENT'].value_counts()"
   ]
  },
  {
   "cell_type": "code",
   "execution_count": 11,
   "id": "5eb32b9f-320a-4f75-a45e-1d8d3f788deb",
   "metadata": {},
   "outputs": [],
   "source": [
    "# Adjust the display settings to show more rows\n",
    "pd.set_option('display.max_rows', None)"
   ]
  },
  {
   "cell_type": "code",
   "execution_count": 13,
   "id": "1b15a975-8639-4b40-bd4a-381622351cf4",
   "metadata": {},
   "outputs": [
    {
     "data": {
      "text/plain": [
       "DEPARTMENT\n",
       "Northeastern University (NU)                                                 508\n",
       "Regina Immigrant Women's Centre (RIWC)                                       290\n",
       "Individual ASCEND participants                                               179\n",
       "SDECB                                                                        172\n",
       "Women's Enterprise Skills Training of Windsor Inc. (WEST)                    145\n",
       "BC JobConnect & MentorConnect (BCJC & BCMC)                                  120\n",
       "Progressive Intercultural Community Services (PICS) Society                  120\n",
       "New Directions LINC (ND)                                                     116\n",
       "Enhanced English Skills for Employment (EESE)                                113\n",
       "Vancouver Community College (VCC)                                            109\n",
       "Calgary Immigrant Women's Association (CIWA)                                 102\n",
       "Douglas College (DC)                                                          79\n",
       "ISS of BC                                                                     71\n",
       "Le Relais Francophone                                                         60\n",
       "Calgary Region Immigrant Employment Council (CRIEC)                           60\n",
       "NPower Canada                                                                 58\n",
       "Niagara Folk Arts Multicultural Center (NFAMC)                                53\n",
       "Back in Motion (BIM)                                                          49\n",
       "Impact North Shore (INS)                                                      46\n",
       "Francophonie Canadienne Plurielle (FRAP)                                      44\n",
       "Saint John Newcomers Centre (SJNC)                                            40\n",
       "Kelowna Community Resources (KCR)                                             37\n",
       "Victoria Immigrant Refugee Centre Society (VIRCS)                             36\n",
       "Lethbridge Family Services (LFS)                                              36\n",
       "Central Vancouver Island Multicultural Society (CVIMS)                        34\n",
       "CDENE                                                                         32\n",
       "Working Women Community Centre (WWCC)                                         31\n",
       "English Online (EO)                                                           30\n",
       "Calgary Immigrant Women's Association - Labour Market Bridging (CIWA LMB)     30\n",
       "Immigrant Employment Council of BC                                            29\n",
       "Pacific Immigrant Resources Society (PIRS)                                    28\n",
       "Multicultural Association of Fredericton Inc. (MCAF)                          27\n",
       "Global Gathering Place (GGP)                                                  25\n",
       "Peel District School Board (PDSB)                                             24\n",
       "Rooted Connections (previously CFS Regina)                                    22\n",
       "Facilitators                                                                  18\n",
       "ASCEND Français - Individual                                                  17\n",
       "ASCEND Demo                                                                   16\n",
       "ASCEND Français                                                               15\n",
       "CRIEC Facilitators                                                            15\n",
       "DC Facilitators                                                               14\n",
       "CIWA Facilitators                                                             14\n",
       "Northeastern University Facilitators                                          13\n",
       "Polycultural Immigrant & Community Services (PIACS)                           12\n",
       "Association des Francophones du Nord‑Ouest de l’Ontario (AFNOO)               12\n",
       "Rooted Connections Facilitators                                               12\n",
       "KEYS                                                                          11\n",
       "CVIMS International Students                                                  10\n",
       "Le Relais Francophone EN                                                      10\n",
       "ASCEND Testers                                                                 9\n",
       "West Neighbourhood House (WEST-NH)                                             9\n",
       "Skeena Diversity Society                                                       9\n",
       "VCC Facilitators                                                               8\n",
       "ASCEND Français Demo                                                           7\n",
       "ASCEND public interface                                                        7\n",
       "ND Facilitator                                                                 7\n",
       "SDECB Facilitators                                                             6\n",
       "Kamloops Immigrant Services (KIS)                                              6\n",
       "North York Community House (NYCH)                                              6\n",
       "Archway Community Services (ACS)                                               5\n",
       "CSEPR                                                                          5\n",
       "Testing Virtro                                                                 5\n",
       "NFAMC Facilitators                                                             4\n",
       "INS Facilitators                                                               4\n",
       "YWCA Facilitators                                                              4\n",
       "GGP Facilitators                                                               4\n",
       "VIRCS Facilitators                                                             4\n",
       "ASCEND Prospective Partners                                                    4\n",
       "NPower Facilitators                                                            4\n",
       "AFRY                                                                           4\n",
       "PICS Facilitators                                                              4\n",
       "RIWC Facilitators                                                              4\n",
       "KCR Facilitators                                                               3\n",
       "AIDE Facilitators                                                              3\n",
       "Center For Skills Development (CFSDT)                                          3\n",
       "SNWC Facilitators                                                              2\n",
       "BIM Facilitators                                                               2\n",
       "ACS Facilitator                                                                2\n",
       "CFSDT Facilitators                                                             2\n",
       "MCAF Facilitators                                                              2\n",
       "BCJC & BCMC Facilitators                                                       2\n",
       "CIWA LMB Facilitators                                                          2\n",
       "WEST Facilitator                                                               2\n",
       "KIS Facilitator                                                                2\n",
       "CVIMS Facilitators                                                             2\n",
       "AFRY Facilitators                                                              2\n",
       "NYCH Facilitators                                                              1\n",
       "Black Coalition for AIDS Prevention (Black CAP)                                1\n",
       "Demo Department - Fr                                                           1\n",
       "WoodGreen (WG)                                                                 1\n",
       "Test                                                                           1\n",
       "LFS Facilitator                                                                1\n",
       "Testing Spring Dashboard                                                       1\n",
       "WG Facilitators                                                                1\n",
       "Testing Curriculum                                                             1\n",
       "Le Relais Facilitators                                                         1\n",
       "YWCA Metro Vancouver                                                           1\n",
       "CSEPR Facilitators                                                             1\n",
       "WWCC Facilitators                                                              1\n",
       "SJNC Facilitators                                                              1\n",
       "ISS of BC Facilitators                                                         1\n",
       "FRAP Facilitators                                                              1\n",
       "ASCEND French Facilitators                                                     1\n",
       "CDENE Facilitators                                                             1\n",
       "Skeena Facilitators                                                            1\n",
       "Testing usernames                                                              1\n",
       "Name: count, dtype: int64"
      ]
     },
     "execution_count": 13,
     "metadata": {},
     "output_type": "execute_result"
    }
   ],
   "source": [
    "# Now run the command again\n",
    "full_output = ascend_inactive_users['DEPARTMENT'].value_counts()\n",
    "full_output"
   ]
  },
  {
   "cell_type": "code",
   "execution_count": null,
   "id": "87d9bf5d-3029-462b-9f50-2f414b737541",
   "metadata": {},
   "outputs": [],
   "source": []
  }
 ],
 "metadata": {
  "kernelspec": {
   "display_name": "Python 3 (ipykernel)",
   "language": "python",
   "name": "python3"
  },
  "language_info": {
   "codemirror_mode": {
    "name": "ipython",
    "version": 3
   },
   "file_extension": ".py",
   "mimetype": "text/x-python",
   "name": "python",
   "nbconvert_exporter": "python",
   "pygments_lexer": "ipython3",
   "version": "3.12.7"
  }
 },
 "nbformat": 4,
 "nbformat_minor": 5
}
