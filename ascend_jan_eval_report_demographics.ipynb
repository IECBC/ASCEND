{
 "cells": [
  {
   "cell_type": "code",
   "execution_count": 1,
   "id": "7b5a6051-b537-42bb-9a88-70734b3c7910",
   "metadata": {},
   "outputs": [],
   "source": [
    "import pandas as pd\n",
    "import matplotlib.pyplot as plt"
   ]
  },
  {
   "cell_type": "code",
   "execution_count": 3,
   "id": "25d2940f-104f-490c-ab01-6403f61d6a67",
   "metadata": {},
   "outputs": [
    {
     "data": {
      "text/plain": [
       "(8000, 38)"
      ]
     },
     "execution_count": 3,
     "metadata": {},
     "output_type": "execute_result"
    }
   ],
   "source": [
    "file_path = 'C:/Users/BrindhaGanesan/Downloads/IECBC-Evaluation-Report-20250101070020135.csv'\n",
    "eval_report = pd.read_csv(file_path)\n",
    "eval_report.shape\n"
   ]
  },
  {
   "cell_type": "code",
   "execution_count": 5,
   "id": "a9a26272-73bf-41f2-b6b4-cb535be91820",
   "metadata": {},
   "outputs": [
    {
     "data": {
      "text/plain": [
       "328"
      ]
     },
     "execution_count": 5,
     "metadata": {},
     "output_type": "execute_result"
    }
   ],
   "source": [
    "len(eval_report['Username'].unique())"
   ]
  },
  {
   "cell_type": "code",
   "execution_count": 7,
   "id": "283575f7-6d57-4743-8a31-99e71f329d71",
   "metadata": {},
   "outputs": [
    {
     "data": {
      "text/plain": [
       "(328, 38)"
      ]
     },
     "execution_count": 7,
     "metadata": {},
     "output_type": "execute_result"
    }
   ],
   "source": [
    "df_unique_users = eval_report.drop_duplicates(subset=['Username'])\n",
    "df_unique_users.shape"
   ]
  },
  {
   "cell_type": "code",
   "execution_count": 9,
   "id": "ec4536ba-a983-4a66-b36d-eee2c37f85ce",
   "metadata": {},
   "outputs": [
    {
     "name": "stdout",
     "output_type": "stream",
     "text": [
      "<class 'pandas.core.frame.DataFrame'>\n",
      "Index: 328 entries, 0 to 7970\n",
      "Data columns (total 38 columns):\n",
      " #   Column                                                  Non-Null Count  Dtype  \n",
      "---  ------                                                  --------------  -----  \n",
      " 0   Username                                                328 non-null    object \n",
      " 1   Course Name                                             328 non-null    object \n",
      " 2   Eval Question                                           328 non-null    object \n",
      " 3   Eval Response                                           129 non-null    object \n",
      " 4   Eval Rating                                             328 non-null    int64  \n",
      " 5   Eval Response DateAdded                                 328 non-null    object \n",
      " 6   Cohort Name                                             328 non-null    object \n",
      " 7   Program Version                                         328 non-null    object \n",
      " 8   Gender                                                  275 non-null    object \n",
      " 9   Age                                                     275 non-null    object \n",
      " 10  Status in Canada                                        275 non-null    object \n",
      " 11  Marital Status                                          275 non-null    object \n",
      " 12  Country of Birth                                        275 non-null    object \n",
      " 13  Country you have_will immigrate from                    274 non-null    object \n",
      " 14  Year landed in Canada _enter 0 if not yet landed_       275 non-null    float64\n",
      " 15  Highest level of education                              275 non-null    object \n",
      " 16  Country                                                 328 non-null    object \n",
      " 17  Province                                                328 non-null    object \n",
      " 18  City                                                    328 non-null    object \n",
      " 19  What is your current employment status                  275 non-null    object \n",
      " 20  What industry or sector are you working in              275 non-null    object \n",
      " 21  Is this your preferred industry or sector               275 non-null    object \n",
      " 22  What is your current annual employment salary           275 non-null    object \n",
      " 23  FirstName                                               328 non-null    object \n",
      " 24  LastName                                                328 non-null    object \n",
      " 25  Phone                                                   328 non-null    object \n",
      " 26  Genre                                                   53 non-null     object \n",
      " 27   Âge                                                    53 non-null     object \n",
      " 28  Statut au Canada                                        53 non-null     object \n",
      " 29  Situation maritale                                      53 non-null     object \n",
      " 30  Pays de naissance                                       53 non-null     object \n",
      " 31  Pays d_où vous avez immigré_immigrerez                  53 non-null     object \n",
      " 32  Année d_arrivée au Canada _saisir 0 si non applicable_  53 non-null     object \n",
      " 33  Plus haut niveau de formation                           53 non-null     object \n",
      " 34  Quelle est votre situation professionnelle actuelle     53 non-null     object \n",
      " 35  Dans quelle industrie ou secteur travaillez_vous        53 non-null     object \n",
      " 36  Est_ce votre secteur ou industrie de prédilection       53 non-null     object \n",
      " 37  Quel est votre salaire annuel actuel                    53 non-null     object \n",
      "dtypes: float64(1), int64(1), object(36)\n",
      "memory usage: 99.9+ KB\n"
     ]
    }
   ],
   "source": [
    "df_unique_users.info()"
   ]
  },
  {
   "cell_type": "code",
   "execution_count": 11,
   "id": "1ecfe1d0-9515-4ca3-a3ac-7245846b4e83",
   "metadata": {},
   "outputs": [
    {
     "data": {
      "text/html": [
       "<div>\n",
       "<style scoped>\n",
       "    .dataframe tbody tr th:only-of-type {\n",
       "        vertical-align: middle;\n",
       "    }\n",
       "\n",
       "    .dataframe tbody tr th {\n",
       "        vertical-align: top;\n",
       "    }\n",
       "\n",
       "    .dataframe thead th {\n",
       "        text-align: right;\n",
       "    }\n",
       "</style>\n",
       "<table border=\"1\" class=\"dataframe\">\n",
       "  <thead>\n",
       "    <tr style=\"text-align: right;\">\n",
       "      <th></th>\n",
       "      <th>Gender</th>\n",
       "      <th>Age</th>\n",
       "      <th>Status in Canada</th>\n",
       "      <th>Marital Status</th>\n",
       "      <th>Country of Birth</th>\n",
       "      <th>Country you have_will immigrate from</th>\n",
       "      <th>Year landed in Canada _enter 0 if not yet landed_</th>\n",
       "      <th>Highest level of education</th>\n",
       "      <th>What is your current employment status</th>\n",
       "      <th>What industry or sector are you working in</th>\n",
       "      <th>Is this your preferred industry or sector</th>\n",
       "      <th>What is your current annual employment salary</th>\n",
       "    </tr>\n",
       "  </thead>\n",
       "  <tbody>\n",
       "    <tr>\n",
       "      <th>0</th>\n",
       "      <td>Female</td>\n",
       "      <td>50-59</td>\n",
       "      <td>Permanent Resident (In Canada)</td>\n",
       "      <td>Single</td>\n",
       "      <td>Iran</td>\n",
       "      <td>Canada</td>\n",
       "      <td>2019.0</td>\n",
       "      <td>Graduate degree</td>\n",
       "      <td>5) Unemployed</td>\n",
       "      <td>01) I am not currently employed</td>\n",
       "      <td>2) No</td>\n",
       "      <td>1) I am not currently employed</td>\n",
       "    </tr>\n",
       "    <tr>\n",
       "      <th>30</th>\n",
       "      <td>Female</td>\n",
       "      <td>20-29</td>\n",
       "      <td>Student with work visa</td>\n",
       "      <td>Single</td>\n",
       "      <td>South Korea</td>\n",
       "      <td>South Korea</td>\n",
       "      <td>2018.0</td>\n",
       "      <td>Degree</td>\n",
       "      <td>1) Employed</td>\n",
       "      <td>17) Health care and social assistance</td>\n",
       "      <td>1) Yes</td>\n",
       "      <td>3) $25,000 – $50,000</td>\n",
       "    </tr>\n",
       "    <tr>\n",
       "      <th>60</th>\n",
       "      <td>Female</td>\n",
       "      <td>40-49</td>\n",
       "      <td>Permanent Resident (In Canada)</td>\n",
       "      <td>Separated/divorced</td>\n",
       "      <td>China</td>\n",
       "      <td>China</td>\n",
       "      <td>2017.0</td>\n",
       "      <td>Degree</td>\n",
       "      <td>4) Self-employed (Contractor or Consultant)</td>\n",
       "      <td>13) Professional, scientific and technical ser...</td>\n",
       "      <td>1) Yes</td>\n",
       "      <td>2) Less than $25,000</td>\n",
       "    </tr>\n",
       "    <tr>\n",
       "      <th>90</th>\n",
       "      <td>NaN</td>\n",
       "      <td>NaN</td>\n",
       "      <td>NaN</td>\n",
       "      <td>NaN</td>\n",
       "      <td>NaN</td>\n",
       "      <td>NaN</td>\n",
       "      <td>NaN</td>\n",
       "      <td>NaN</td>\n",
       "      <td>NaN</td>\n",
       "      <td>NaN</td>\n",
       "      <td>NaN</td>\n",
       "      <td>NaN</td>\n",
       "    </tr>\n",
       "    <tr>\n",
       "      <th>120</th>\n",
       "      <td>Male</td>\n",
       "      <td>40-49</td>\n",
       "      <td>Permanent Resident (In Canada)</td>\n",
       "      <td>Married/live with partner</td>\n",
       "      <td>IRAN</td>\n",
       "      <td>IRAN</td>\n",
       "      <td>2024.0</td>\n",
       "      <td>Graduate degree</td>\n",
       "      <td>5) Unemployed</td>\n",
       "      <td>01) I am not currently employed</td>\n",
       "      <td>2) No</td>\n",
       "      <td>1) I am not currently employed</td>\n",
       "    </tr>\n",
       "  </tbody>\n",
       "</table>\n",
       "</div>"
      ],
      "text/plain": [
       "     Gender    Age                Status in Canada             Marital Status  \\\n",
       "0    Female  50-59  Permanent Resident (In Canada)                     Single   \n",
       "30   Female  20-29          Student with work visa                     Single   \n",
       "60   Female  40-49  Permanent Resident (In Canada)         Separated/divorced   \n",
       "90      NaN    NaN                             NaN                        NaN   \n",
       "120    Male  40-49  Permanent Resident (In Canada)  Married/live with partner   \n",
       "\n",
       "    Country of Birth Country you have_will immigrate from  \\\n",
       "0               Iran                               Canada   \n",
       "30      South Korea                          South Korea    \n",
       "60             China                                China   \n",
       "90               NaN                                  NaN   \n",
       "120             IRAN                                 IRAN   \n",
       "\n",
       "     Year landed in Canada _enter 0 if not yet landed_  \\\n",
       "0                                               2019.0   \n",
       "30                                              2018.0   \n",
       "60                                              2017.0   \n",
       "90                                                 NaN   \n",
       "120                                             2024.0   \n",
       "\n",
       "    Highest level of education       What is your current employment status  \\\n",
       "0              Graduate degree                                5) Unemployed   \n",
       "30                      Degree                                 1) Employed    \n",
       "60                      Degree  4) Self-employed (Contractor or Consultant)   \n",
       "90                         NaN                                          NaN   \n",
       "120            Graduate degree                                5) Unemployed   \n",
       "\n",
       "            What industry or sector are you working in  \\\n",
       "0                      01) I am not currently employed   \n",
       "30               17) Health care and social assistance   \n",
       "60   13) Professional, scientific and technical ser...   \n",
       "90                                                 NaN   \n",
       "120                    01) I am not currently employed   \n",
       "\n",
       "    Is this your preferred industry or sector  \\\n",
       "0                                       2) No   \n",
       "30                                     1) Yes   \n",
       "60                                     1) Yes   \n",
       "90                                        NaN   \n",
       "120                                     2) No   \n",
       "\n",
       "    What is your current annual employment salary  \n",
       "0                  1) I am not currently employed  \n",
       "30                           3) $25,000 – $50,000  \n",
       "60                           2) Less than $25,000  \n",
       "90                                            NaN  \n",
       "120                1) I am not currently employed  "
      ]
     },
     "execution_count": 11,
     "metadata": {},
     "output_type": "execute_result"
    }
   ],
   "source": [
    "# Select demographic columns\n",
    "demographic_columns_filtered = [\n",
    "    \"Gender\", \"Age\", \"Status in Canada\", \"Marital Status\", \"Country of Birth\",\n",
    "    \"Country you have_will immigrate from\", \"Year landed in Canada _enter 0 if not yet landed_\",\n",
    "    \"Highest level of education\", \"What is your current employment status\",\n",
    "    \"What industry or sector are you working in\", \"Is this your preferred industry or sector\",\n",
    "    \"What is your current annual employment salary\"\n",
    "]\n",
    "\n",
    "df_demographics_filtered = df_unique_users[demographic_columns_filtered]\n",
    "df_demographics_filtered.head()"
   ]
  },
  {
   "cell_type": "code",
   "execution_count": 13,
   "id": "1f654eb1-e90c-4e59-986f-ed41c789eb0a",
   "metadata": {},
   "outputs": [
    {
     "data": {
      "text/plain": [
       "(328, 12)"
      ]
     },
     "execution_count": 13,
     "metadata": {},
     "output_type": "execute_result"
    }
   ],
   "source": [
    "df_demographics_filtered.shape"
   ]
  },
  {
   "cell_type": "code",
   "execution_count": 15,
   "id": "c1f622db-24b2-4a14-b5d4-b907b68ada61",
   "metadata": {},
   "outputs": [],
   "source": [
    "# Drop completely empty rows\n",
    "df_demographics_filtered = df_demographics_filtered.dropna(how='all')"
   ]
  },
  {
   "cell_type": "code",
   "execution_count": 17,
   "id": "63ebbe34-6d90-4a71-9279-ef415db1f4d7",
   "metadata": {},
   "outputs": [
    {
     "data": {
      "text/plain": [
       "(275, 12)"
      ]
     },
     "execution_count": 17,
     "metadata": {},
     "output_type": "execute_result"
    }
   ],
   "source": [
    "df_demographics_filtered.shape"
   ]
  },
  {
   "cell_type": "code",
   "execution_count": 19,
   "id": "fdfab004-fae5-4878-9fb9-801a12455f3f",
   "metadata": {},
   "outputs": [
    {
     "data": {
      "text/plain": [
       "Gender\n",
       "Female                    205\n",
       "Male                       69\n",
       "Prefer not to disclose      1\n",
       "Name: count, dtype: int64"
      ]
     },
     "execution_count": 19,
     "metadata": {},
     "output_type": "execute_result"
    }
   ],
   "source": [
    "df_demographics_filtered['Gender'].value_counts()"
   ]
  },
  {
   "cell_type": "code",
   "execution_count": 21,
   "id": "752bf358-39df-4dd7-8174-075c6693e54d",
   "metadata": {},
   "outputs": [
    {
     "data": {
      "text/plain": [
       "Age\n",
       "30-39                     127\n",
       "40-49                      88\n",
       "20-29                      39\n",
       "50-59                      17\n",
       "14-19                       2\n",
       "60-69                       1\n",
       "Prefer not to disclose      1\n",
       "Name: count, dtype: int64"
      ]
     },
     "execution_count": 21,
     "metadata": {},
     "output_type": "execute_result"
    }
   ],
   "source": [
    "df_demographics_filtered['Age'].value_counts()"
   ]
  },
  {
   "cell_type": "code",
   "execution_count": 23,
   "id": "ad96b3b4-832d-4327-8d96-177905f279f2",
   "metadata": {},
   "outputs": [
    {
     "data": {
      "text/plain": [
       "Status in Canada\n",
       "Permanent Resident (In Canada)                                   200\n",
       "Temporary Foreign Worker (IRPR s.112 work permit)                 53\n",
       "Convention Refugee                                                 7\n",
       "Student with work visa                                             6\n",
       "Permanent Resident, Approved in Principle (Not yet in Canada)      4\n",
       "Canadian citizen                                                   4\n",
       "Spouse of Permanent Resident Principal Applicant (In Canada)       1\n",
       "Name: count, dtype: int64"
      ]
     },
     "execution_count": 23,
     "metadata": {},
     "output_type": "execute_result"
    }
   ],
   "source": [
    "df_demographics_filtered['Status in Canada'].value_counts()"
   ]
  },
  {
   "cell_type": "code",
   "execution_count": 25,
   "id": "35605b8c-8c4c-4ab9-a917-b5678036c9bc",
   "metadata": {},
   "outputs": [
    {
     "data": {
      "text/plain": [
       "Country of Birth\n",
       "Ukraine                   36\n",
       "India                     34\n",
       "Nigeria                   17\n",
       "Iran                      14\n",
       "China                     11\n",
       "Colombia                   9\n",
       "Egypt                      9\n",
       "Ecuador                    8\n",
       "Peru                       7\n",
       "Ukraine                    7\n",
       "Russia                     6\n",
       "Philippines                5\n",
       "Vietnam                    4\n",
       "Pakistan                   4\n",
       "Afghanistan                4\n",
       "India                      3\n",
       "Mexico                     3\n",
       "Afghanistan                3\n",
       "Mali                       3\n",
       "Syria                      3\n",
       "morocco                    3\n",
       "Poland                     2\n",
       "South Korea                2\n",
       "Cameroon                   2\n",
       "india                      2\n",
       "INDIA                      2\n",
       "Viet Nam                   2\n",
       "Venezuela                  2\n",
       "South Korea                2\n",
       "Burundi                    2\n",
       "Canada                     2\n",
       "Algeria                    2\n",
       "Uganda                     2\n",
       "Morocco                    2\n",
       "China                      1\n",
       "2002-01-10                 1\n",
       "Belgium                    1\n",
       "IRAN                       1\n",
       "Madagascar                 1\n",
       "Sudan                      1\n",
       "Dominican Republic         1\n",
       "USSR                       1\n",
       "Congo                      1\n",
       "Sri Lanka                  1\n",
       "Iran                       1\n",
       "United Arab Emirates       1\n",
       "Eritrea                    1\n",
       "Sri lanka                  1\n",
       "Guatemala                  1\n",
       "Bosnia and Hercegovina     1\n",
       "Україна                    1\n",
       "Hk                         1\n",
       "Haiti                      1\n",
       "PHILIPPINES                1\n",
       "cameroon                   1\n",
       "Egypt                      1\n",
       "Hungary                    1\n",
       "Côte d'Ivoire              1\n",
       "Hong Kong                  1\n",
       "Saudi Arabia               1\n",
       "somail                     1\n",
       "France                     1\n",
       "Turkey                     1\n",
       "Antigua and Barbuda        1\n",
       "Ecuador                    1\n",
       "Macedonia                  1\n",
       "Cameroun                   1\n",
       "colombia                   1\n",
       "United Kingdom             1\n",
       "Moldova                    1\n",
       "saudi arabia               1\n",
       "Ukrain                     1\n",
       "Togo                       1\n",
       "Brazil                     1\n",
       "France                     1\n",
       "Armenia                    1\n",
       "CHINA                      1\n",
       "Colombia                   1\n",
       "Algérie                    1\n",
       "Republic of Korea          1\n",
       "Slovakia                   1\n",
       "Kazakhstan                 1\n",
       "Grenada                    1\n",
       "china                      1\n",
       "Trinidad and Tobago        1\n",
       "Nigeria                    1\n",
       "Perú                       1\n",
       "South Sudan                1\n",
       "Somalia                    1\n",
       "Bangladesh                 1\n",
       "Name: count, dtype: int64"
      ]
     },
     "execution_count": 25,
     "metadata": {},
     "output_type": "execute_result"
    }
   ],
   "source": [
    "pd.set_option('display.max_rows', None)  # Show all rows\n",
    "df_demographics_filtered['Country of Birth'].value_counts()"
   ]
  },
  {
   "cell_type": "code",
   "execution_count": 27,
   "id": "9cd608e2-97c0-49a5-83be-5e012cac1158",
   "metadata": {},
   "outputs": [
    {
     "data": {
      "text/plain": [
       "Country of Birth Cleaned\n",
       "ukraine                   45\n",
       "india                     41\n",
       "nigeria                   18\n",
       "iran                      16\n",
       "china                     14\n",
       "colombia                  11\n",
       "egypt                     10\n",
       "ecuador                    9\n",
       "peru                       7\n",
       "afghanistan                7\n",
       "philippines                6\n",
       "russia                     6\n",
       "morocco                    5\n",
       "south korea                4\n",
       "pakistan                   4\n",
       "vietnam                    4\n",
       "mexico                     3\n",
       "syria                      3\n",
       "cameroon                   3\n",
       "mali                       3\n",
       "france                     2\n",
       "poland                     2\n",
       "viet nam                   2\n",
       "burundi                    2\n",
       "venezuela                  2\n",
       "canada                     2\n",
       "saudi arabia               2\n",
       "algeria                    2\n",
       "uganda                     2\n",
       "sri lanka                  2\n",
       "somail                     1\n",
       "bosnia and hercegovina     1\n",
       "united arab emirates       1\n",
       "congo                      1\n",
       "sudan                      1\n",
       "dominican republic         1\n",
       "madagascar                 1\n",
       "belgium                    1\n",
       "hong kong                  1\n",
       "antigua and barbuda        1\n",
       "eritrea                    1\n",
       "côte d'ivoire              1\n",
       "ussr                       1\n",
       "hungary                    1\n",
       "guatemala                  1\n",
       "haiti                      1\n",
       "hk                         1\n",
       "togo                       1\n",
       "turkey                     1\n",
       "south sudan                1\n",
       "2002-01-10                 1\n",
       "somalia                    1\n",
       "trinidad and tobago        1\n",
       "armenia                    1\n",
       "united kingdom             1\n",
       "cameroun                   1\n",
       "macedonia                  1\n",
       "moldova                    1\n",
       "brazil                     1\n",
       "algérie                    1\n",
       "republic of korea          1\n",
       "slovakia                   1\n",
       "kazakhstan                 1\n",
       "grenada                    1\n",
       "perú                       1\n",
       "bangladesh                 1\n",
       "Name: count, dtype: int64"
      ]
     },
     "execution_count": 27,
     "metadata": {},
     "output_type": "execute_result"
    }
   ],
   "source": [
    "# Convert to lowercase, strip whitespace, and standardize spelling\n",
    "\n",
    "df_demographics_filtered['Country of Birth Cleaned'] = (\n",
    "    df_demographics_filtered['Country of Birth']\n",
    "    .str.strip()                     # remove leading/trailing spaces\n",
    "    .str.lower()                    # convert to lowercase\n",
    "    .replace({\n",
    "        'ukrain': 'ukraine',\n",
    "        'україна': 'ukraine',\n",
    "        'ukraine': 'ukraine',       # keep main label\n",
    "        'ukraine ': 'ukraine',      # trailing space\n",
    "        'india': 'india',\n",
    "        'INDIA': 'india',\n",
    "        'china': 'china',\n",
    "        'CHINA': 'china',\n",
    "        # add more as needed\n",
    "    })\n",
    ")\n",
    "\n",
    "# Check cleaned counts\n",
    "df_demographics_filtered['Country of Birth Cleaned'].value_counts()\n"
   ]
  },
  {
   "cell_type": "code",
   "execution_count": 29,
   "id": "917c8abb-bf82-4221-8e75-f92980317911",
   "metadata": {},
   "outputs": [
    {
     "data": {
      "text/plain": [
       "Marital Status\n",
       "Married/live with partner    203\n",
       "Single                        45\n",
       "Separated/divorced            20\n",
       "Prefer not to disclose         7\n",
       "Name: count, dtype: int64"
      ]
     },
     "execution_count": 29,
     "metadata": {},
     "output_type": "execute_result"
    }
   ],
   "source": [
    "df_demographics_filtered['Marital Status'].value_counts()"
   ]
  },
  {
   "cell_type": "code",
   "execution_count": 31,
   "id": "40dcdb49-8d24-477c-aa83-7e54c9f1d91d",
   "metadata": {},
   "outputs": [
    {
     "data": {
      "text/plain": [
       "Is this your preferred industry or sector\n",
       "2) No     145\n",
       "1) Yes    130\n",
       "Name: count, dtype: int64"
      ]
     },
     "execution_count": 31,
     "metadata": {},
     "output_type": "execute_result"
    }
   ],
   "source": [
    "df_demographics_filtered['Is this your preferred industry or sector'].value_counts()"
   ]
  },
  {
   "cell_type": "code",
   "execution_count": 33,
   "id": "84b22e86-60b1-47c5-972a-f3b70a84a9b7",
   "metadata": {},
   "outputs": [
    {
     "data": {
      "text/plain": [
       "What is your current annual employment salary\n",
       "1) I am not currently employed    141\n",
       "3) $25,000 – $50,000               71\n",
       "2) Less than $25,000               35\n",
       "4) $50,000 - $75,000               17\n",
       "5) $75,000 - $100,000               8\n",
       "6) More than $100,000               3\n",
       "Name: count, dtype: int64"
      ]
     },
     "execution_count": 33,
     "metadata": {},
     "output_type": "execute_result"
    }
   ],
   "source": [
    "df_demographics_filtered['What is your current annual employment salary'].value_counts()"
   ]
  },
  {
   "cell_type": "code",
   "execution_count": 35,
   "id": "2e195c82-9d61-4959-9aae-54922f0e9fc3",
   "metadata": {},
   "outputs": [
    {
     "data": {
      "text/plain": [
       "Country you have_will immigrate from\n",
       "Ukraine                                        35\n",
       "India                                          27\n",
       "Nigeria                                        14\n",
       "China                                          11\n",
       "Egypt                                          10\n",
       "Iran                                           10\n",
       "Ecuador                                         9\n",
       "Peru                                            8\n",
       "Canada                                          8\n",
       "Colombia                                        7\n",
       "Ukraine                                         5\n",
       "Turkey                                          4\n",
       "Mexico                                          4\n",
       "Russia                                          4\n",
       "UAE                                             4\n",
       "Pakistan                                        4\n",
       "India                                           4\n",
       "Cameroon                                        3\n",
       "South Korea                                     3\n",
       "United Arab Emirates                            3\n",
       "Saudi Arabia                                    3\n",
       "Philippines                                     3\n",
       "morocco                                         3\n",
       "Colombia                                        3\n",
       "Hong Kong                                       2\n",
       "The Philippines                                 2\n",
       "Germany                                         2\n",
       "india                                           2\n",
       "United Kingdom                                  2\n",
       "Afghanistan                                     2\n",
       "Vietnam                                         2\n",
       "Afghanistan                                     2\n",
       "Egypt                                           2\n",
       "Mali                                            2\n",
       "Poland                                          2\n",
       "Iran                                            2\n",
       "Sudan                                           2\n",
       "CANADA                                          2\n",
       "Viet Nam                                        1\n",
       "Kampala                                         1\n",
       "Israel                                          1\n",
       "somail                                          1\n",
       "Kenya                                           1\n",
       "France                                          1\n",
       "Bosnia and Hercegovina                          1\n",
       "Antigua and Barbuda                             1\n",
       "Côte d'Ivoire                                   1\n",
       "Sri lanka                                       1\n",
       "Denmark                                         1\n",
       "Dominican Republic                              1\n",
       "comeroon                                        1\n",
       "Madagascar                                      1\n",
       "PHILIPPINES                                     1\n",
       "INDIA                                           1\n",
       "Belgium                                         1\n",
       "Haiti                                           1\n",
       "HK                                              1\n",
       "Ghana                                           1\n",
       "Одеська область                                 1\n",
       "Ethiopia                                        1\n",
       "Guatemala                                       1\n",
       "Venezuela                                       1\n",
       "France                                          1\n",
       "Rwanda                                          1\n",
       "Uk                                              1\n",
       "IRAN                                            1\n",
       "South Africa                                    1\n",
       "Qatar                                           1\n",
       "first from somali to uganda and then canada     1\n",
       "Uganda                                          1\n",
       "Trinidad and Tobago                             1\n",
       "Armenia                                         1\n",
       "Kuwait                                          1\n",
       "Algeria                                         1\n",
       "Morocco                                         1\n",
       "Jordan                                          1\n",
       "England                                         1\n",
       "ethiopia                                        1\n",
       "Macedonia                                       1\n",
       "BC                                              1\n",
       "colombia                                        1\n",
       "Moldova                                         1\n",
       "Yes                                             1\n",
       "Brazil                                          1\n",
       "Algeria                                         1\n",
       "South Korea                                     1\n",
       "Burundi                                         1\n",
       "Philippines                                     1\n",
       "Republic of Korea                               1\n",
       "Slovakia                                        1\n",
       "Kazakhstan                                      1\n",
       "Grenada                                         1\n",
       "china                                           1\n",
       " Nigeria                                        1\n",
       "Bangladesh                                      1\n",
       "Name: count, dtype: int64"
      ]
     },
     "execution_count": 35,
     "metadata": {},
     "output_type": "execute_result"
    }
   ],
   "source": [
    "df_demographics_filtered['Country you have_will immigrate from'].value_counts()"
   ]
  },
  {
   "cell_type": "code",
   "execution_count": 41,
   "id": "45fab644-682f-4e7d-b903-4f01516f13f7",
   "metadata": {},
   "outputs": [
    {
     "data": {
      "text/plain": [
       "Home Country Cleaned\n",
       "ukraine                   40\n",
       "india                     34\n",
       "nigeria                   15\n",
       "iran                      13\n",
       "china                     12\n",
       "egypt                     12\n",
       "colombia                  11\n",
       "canada                    11\n",
       "ecuador                    9\n",
       "peru                       8\n",
       "philippines                7\n",
       "united arab emirates       7\n",
       "south korea                5\n",
       "cameroon                   4\n",
       "united kingdom             4\n",
       "afghanistan                4\n",
       "morocco                    4\n",
       "pakistan                   4\n",
       "turkey                     4\n",
       "russia                     4\n",
       "mexico                     4\n",
       "hong kong                  3\n",
       "saudi arabia               3\n",
       "vietnam                    3\n",
       "ethiopia                   2\n",
       "poland                     2\n",
       "sudan                      2\n",
       "mali                       2\n",
       "france                     2\n",
       "germany                    2\n",
       "somalia                    2\n",
       "algeria                    2\n",
       "dominican republic         1\n",
       "madagascar                 1\n",
       "denmark                    1\n",
       "kenya                      1\n",
       "kampala                    1\n",
       "trinidad and tobago        1\n",
       "sri lanka                  1\n",
       "belgium                    1\n",
       "guatemala                  1\n",
       "bosnia and hercegovina     1\n",
       "одеська область            1\n",
       "ghana                      1\n",
       "haiti                      1\n",
       "côte d'ivoire              1\n",
       "israel                     1\n",
       "burundi                    1\n",
       "antigua and barbuda        1\n",
       "venezuela                  1\n",
       "rwanda                     1\n",
       "grenada                    1\n",
       "kazakhstan                 1\n",
       "slovakia                   1\n",
       "armenia                    1\n",
       "brazil                     1\n",
       "moldova                    1\n",
       "macedonia                  1\n",
       "south africa               1\n",
       "qatar                      1\n",
       "jordan                     1\n",
       "uganda                     1\n",
       "kuwait                     1\n",
       "bangladesh                 1\n",
       "Name: count, dtype: int64"
      ]
     },
     "execution_count": 41,
     "metadata": {},
     "output_type": "execute_result"
    }
   ],
   "source": [
    "# Lowercase, strip whitespace\n",
    "df_demographics_filtered['Home Country Cleaned'] = (\n",
    "    df_demographics_filtered['Country you have_will immigrate from']\n",
    "    .str.lower()\n",
    "    .str.strip()\n",
    ")\n",
    "\n",
    "# Replace known variants\n",
    "country_mapping = {\n",
    "    'ukrain': 'ukraine',\n",
    "    'odeska oblast': 'ukraine',\n",
    "    'india ': 'india',\n",
    "    'INDIA': 'india',\n",
    "    'Nigeria': 'nigeria',\n",
    "    ' Nigeria': 'nigeria',\n",
    "    'IRAN': 'iran',\n",
    "    'iran ': 'iran',\n",
    "    'iran': 'iran',\n",
    "    'China': 'china',\n",
    "    'CHINA': 'china',\n",
    "    'china ': 'china',\n",
    "    'colombia': 'colombia',\n",
    "    'canada': 'canada',\n",
    "    'CANADA': 'canada',\n",
    "    'philippines': 'philippines',\n",
    "    'the philippines': 'philippines',\n",
    "    'south korea': 'south korea',\n",
    "    'republic of korea': 'south korea',\n",
    "    'uae': 'united arab emirates',\n",
    "    'saudi arabia': 'saudi arabia',\n",
    "    'viet nam': 'vietnam',\n",
    "    'comeroon': 'cameroon',\n",
    "    'cameroon': 'cameroon',\n",
    "    'hk': 'hong kong',\n",
    "    'russia': 'russia',\n",
    "    'ussr': 'russia',\n",
    "    'somail': 'somalia',\n",
    "    'first from somali to uganda and then canada': 'somalia',\n",
    "    'yes': None,\n",
    "    'bc': 'canada',\n",
    "    'uk': 'united kingdom',\n",
    "    'england': 'united kingdom',\n",
    "    'france ': 'france',\n",
    "    # Add more as you encounter them\n",
    "}\n",
    "\n",
    "# Apply mapping\n",
    "df_demographics_filtered['Home Country Cleaned'] = df_demographics_filtered['Home Country Cleaned'].replace(country_mapping)\n",
    "\n",
    "# View counts of cleaned data\n",
    "df_demographics_filtered['Home Country Cleaned'].value_counts()\n"
   ]
  },
  {
   "cell_type": "code",
   "execution_count": 43,
   "id": "b1642708-96d9-447c-b7b1-d6966d02d9c0",
   "metadata": {},
   "outputs": [
    {
     "data": {
      "text/plain": [
       "Year landed in Canada _enter 0 if not yet landed_\n",
       "2024.0    90\n",
       "2023.0    51\n",
       "2022.0    42\n",
       "2021.0    30\n",
       "0.0       21\n",
       "2018.0    12\n",
       "2019.0     9\n",
       "2020.0     7\n",
       "2017.0     2\n",
       "2010.0     2\n",
       "2015.0     2\n",
       "2013.0     2\n",
       "2029.0     1\n",
       "1996.0     1\n",
       "2014.0     1\n",
       "2002.0     1\n",
       "2016.0     1\n",
       "Name: count, dtype: int64"
      ]
     },
     "execution_count": 43,
     "metadata": {},
     "output_type": "execute_result"
    }
   ],
   "source": [
    "df_demographics_filtered['Year landed in Canada _enter 0 if not yet landed_'].value_counts()"
   ]
  },
  {
   "cell_type": "code",
   "execution_count": 45,
   "id": "8a7ed2f6-6c5a-414b-a425-103aa7cbf825",
   "metadata": {},
   "outputs": [
    {
     "data": {
      "text/plain": [
       "Year landed in Canada _enter 0 if not yet landed_\n",
       "2024    90\n",
       "2023    51\n",
       "2022    42\n",
       "2021    30\n",
       "0       21\n",
       "2018    12\n",
       "2019     9\n",
       "2020     7\n",
       "2017     2\n",
       "2010     2\n",
       "2015     2\n",
       "2013     2\n",
       "2029     1\n",
       "1996     1\n",
       "2014     1\n",
       "2002     1\n",
       "2016     1\n",
       "Name: count, dtype: Int64"
      ]
     },
     "execution_count": 45,
     "metadata": {},
     "output_type": "execute_result"
    }
   ],
   "source": [
    "# Replace the column name with a cleaner alias for convenience\n",
    "year_col = 'Year landed in Canada _enter 0 if not yet landed_'\n",
    "\n",
    "# Convert to integer, handling missing values (if any)\n",
    "df_demographics_filtered[year_col] = pd.to_numeric(df_demographics_filtered[year_col], errors='coerce').astype('Int64')\n",
    "\n",
    "# Now check value counts again (will be int now)\n",
    "df_demographics_filtered[year_col].value_counts()\n"
   ]
  },
  {
   "cell_type": "code",
   "execution_count": 47,
   "id": "19d6962f-2d40-4947-9ef8-b4dbb5152e12",
   "metadata": {},
   "outputs": [
    {
     "data": {
      "text/plain": [
       "Highest level of education\n",
       "Degree                                                 109\n",
       "Graduate degree                                         78\n",
       "Diploma                                                 40\n",
       "Some post-secondary (college or university courses)     20\n",
       "PhD                                                     19\n",
       "High school diploma or equivalent                        8\n",
       "Certificate                                              1\n",
       "Name: count, dtype: int64"
      ]
     },
     "execution_count": 47,
     "metadata": {},
     "output_type": "execute_result"
    }
   ],
   "source": [
    "df_demographics_filtered['Highest level of education'].value_counts()"
   ]
  },
  {
   "cell_type": "code",
   "execution_count": 49,
   "id": "3ee25c92-9e46-49ca-9406-5fe616275de3",
   "metadata": {},
   "outputs": [
    {
     "data": {
      "text/plain": [
       "What is your current employment status\n",
       "5) Unemployed                                                                 129\n",
       "1) Employed                                                                   108\n",
       "2) In school or training                                                       15\n",
       "4) Self-employed (Contractor or Consultant)                                     9\n",
       "3) On leave from employment (Leave of absence, Maternity, Paternity, etc.)      8\n",
       "6) Other                                                                        6\n",
       "Name: count, dtype: int64"
      ]
     },
     "execution_count": 49,
     "metadata": {},
     "output_type": "execute_result"
    }
   ],
   "source": [
    "df_demographics_filtered['What is your current employment status'].value_counts()"
   ]
  },
  {
   "cell_type": "code",
   "execution_count": 51,
   "id": "8c177324-d64d-4311-be0d-19b7875edeb9",
   "metadata": {},
   "outputs": [
    {
     "data": {
      "text/plain": [
       "What industry or sector are you working in\n",
       "01) I am not currently employed                                              106\n",
       "21) Other services                                                            31\n",
       "13) Professional, scientific and technical services                           19\n",
       "17) Health care and social assistance                                         19\n",
       "11) Finance and insurance                                                     16\n",
       "16) Educational services                                                      15\n",
       "06) Manufacturing                                                             12\n",
       "15) Administrative and support, waste management and remediation services      8\n",
       "10) Information and cultural industries                                        8\n",
       "19) Accommodation and food services                                            8\n",
       "05) Construction                                                               7\n",
       "09) Transportation and warehousing                                             6\n",
       "08) Retail trade                                                               5\n",
       "20) Public administration                                                      4\n",
       "14) Management of companies and enterprises                                    4\n",
       "12) Real estate and rental and leasing                                         3\n",
       "07) Wholesale trade                                                            2\n",
       "18) Arts, entertainment and recreation                                         2\n",
       "Name: count, dtype: int64"
      ]
     },
     "execution_count": 51,
     "metadata": {},
     "output_type": "execute_result"
    }
   ],
   "source": [
    "df_demographics_filtered['What industry or sector are you working in'].value_counts()"
   ]
  },
  {
   "cell_type": "code",
   "execution_count": 53,
   "id": "fde34f58-ee2a-437c-885c-ad5309eb6b0c",
   "metadata": {},
   "outputs": [
    {
     "data": {
      "text/plain": [
       "Is this your preferred industry or sector\n",
       "2) No     145\n",
       "1) Yes    130\n",
       "Name: count, dtype: int64"
      ]
     },
     "execution_count": 53,
     "metadata": {},
     "output_type": "execute_result"
    }
   ],
   "source": [
    "df_demographics_filtered['Is this your preferred industry or sector'].value_counts()"
   ]
  },
  {
   "cell_type": "code",
   "execution_count": 55,
   "id": "e79e4c30-3f25-4d48-8c3d-c75c2a352ac9",
   "metadata": {},
   "outputs": [
    {
     "data": {
      "text/plain": [
       "What is your current annual employment salary\n",
       "1) I am not currently employed    141\n",
       "3) $25,000 – $50,000               71\n",
       "2) Less than $25,000               35\n",
       "4) $50,000 - $75,000               17\n",
       "5) $75,000 - $100,000               8\n",
       "6) More than $100,000               3\n",
       "Name: count, dtype: int64"
      ]
     },
     "execution_count": 55,
     "metadata": {},
     "output_type": "execute_result"
    }
   ],
   "source": [
    "df_demographics_filtered['What is your current annual employment salary'].value_counts()"
   ]
  }
 ],
 "metadata": {
  "kernelspec": {
   "display_name": "Python [conda env:base] *",
   "language": "python",
   "name": "conda-base-py"
  },
  "language_info": {
   "codemirror_mode": {
    "name": "ipython",
    "version": 3
   },
   "file_extension": ".py",
   "mimetype": "text/x-python",
   "name": "python",
   "nbconvert_exporter": "python",
   "pygments_lexer": "ipython3",
   "version": "3.12.7"
  }
 },
 "nbformat": 4,
 "nbformat_minor": 5
}
