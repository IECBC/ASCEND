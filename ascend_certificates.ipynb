{
 "cells": [
  {
   "cell_type": "code",
   "execution_count": 1,
   "id": "94fdef74-6518-46aa-84a4-a5fcd667606c",
   "metadata": {},
   "outputs": [],
   "source": [
    "# Import the necessary modules\n",
    "\n",
    "import pandas as pd  # For data manipulation and analysis\n",
    "import numpy as np  # For numerical computations\n",
    "\n",
    "import matplotlib.pyplot as plt  # For plotting\n",
    "import seaborn as sns  # For statistical data visualization"
   ]
  },
  {
   "cell_type": "code",
   "execution_count": 3,
   "id": "4a31d658-a9e6-47a0-909c-c5bebca72746",
   "metadata": {},
   "outputs": [
    {
     "data": {
      "text/html": [
       "<div>\n",
       "<style scoped>\n",
       "    .dataframe tbody tr th:only-of-type {\n",
       "        vertical-align: middle;\n",
       "    }\n",
       "\n",
       "    .dataframe tbody tr th {\n",
       "        vertical-align: top;\n",
       "    }\n",
       "\n",
       "    .dataframe thead th {\n",
       "        text-align: right;\n",
       "    }\n",
       "</style>\n",
       "<table border=\"1\" class=\"dataframe\">\n",
       "  <thead>\n",
       "    <tr style=\"text-align: right;\">\n",
       "      <th></th>\n",
       "      <th>COURSE</th>\n",
       "      <th>LASTNAME</th>\n",
       "      <th>FIRSTNAME</th>\n",
       "      <th>DEPARTMENT</th>\n",
       "      <th>CERTIFICATIONDATE</th>\n",
       "      <th>EXPIRYDATE</th>\n",
       "      <th>EXPIRESINDAYS</th>\n",
       "      <th>TYPE</th>\n",
       "    </tr>\n",
       "  </thead>\n",
       "  <tbody>\n",
       "    <tr>\n",
       "      <th>0</th>\n",
       "      <td>Module 4 : Développer vos soft skills pour la ...</td>\n",
       "      <td>Le Divenah</td>\n",
       "      <td>Solenn</td>\n",
       "      <td>ASCEND Français - Individual</td>\n",
       "      <td>2023-08-09 16:17</td>\n",
       "      <td>NaN</td>\n",
       "      <td>NaN</td>\n",
       "      <td>Online Course</td>\n",
       "    </tr>\n",
       "    <tr>\n",
       "      <th>1</th>\n",
       "      <td>Module 4 : Développer vos soft skills pour la ...</td>\n",
       "      <td>Rebbouh</td>\n",
       "      <td>Redhouane Fouad</td>\n",
       "      <td>Francophonie Canadienne Plurielle (FRAP)</td>\n",
       "      <td>2024-11-22 17:12</td>\n",
       "      <td>NaN</td>\n",
       "      <td>NaN</td>\n",
       "      <td>Online Course</td>\n",
       "    </tr>\n",
       "    <tr>\n",
       "      <th>2</th>\n",
       "      <td>Module 4 : Développer vos soft skills pour la ...</td>\n",
       "      <td>PIEUWE PEDJI</td>\n",
       "      <td>GAEL</td>\n",
       "      <td>Francophonie Canadienne Plurielle (FRAP)</td>\n",
       "      <td>2024-12-03 21:20</td>\n",
       "      <td>NaN</td>\n",
       "      <td>NaN</td>\n",
       "      <td>Online Course</td>\n",
       "    </tr>\n",
       "    <tr>\n",
       "      <th>3</th>\n",
       "      <td>Module 4 : Développer vos soft skills pour la ...</td>\n",
       "      <td>KOFFI</td>\n",
       "      <td>KOUAME PATRICE</td>\n",
       "      <td>Francophonie Canadienne Plurielle (FRAP)</td>\n",
       "      <td>2024-12-01 20:49</td>\n",
       "      <td>NaN</td>\n",
       "      <td>NaN</td>\n",
       "      <td>Online Course</td>\n",
       "    </tr>\n",
       "    <tr>\n",
       "      <th>4</th>\n",
       "      <td>Module 4 : Développer vos soft skills pour la ...</td>\n",
       "      <td>HAMZI</td>\n",
       "      <td>BATOUL</td>\n",
       "      <td>AFRY</td>\n",
       "      <td>2024-10-25 7:26</td>\n",
       "      <td>NaN</td>\n",
       "      <td>NaN</td>\n",
       "      <td>Online Course</td>\n",
       "    </tr>\n",
       "  </tbody>\n",
       "</table>\n",
       "</div>"
      ],
      "text/plain": [
       "                                              COURSE      LASTNAME  \\\n",
       "0  Module 4 : Développer vos soft skills pour la ...    Le Divenah   \n",
       "1  Module 4 : Développer vos soft skills pour la ...       Rebbouh   \n",
       "2  Module 4 : Développer vos soft skills pour la ...  PIEUWE PEDJI   \n",
       "3  Module 4 : Développer vos soft skills pour la ...         KOFFI   \n",
       "4  Module 4 : Développer vos soft skills pour la ...         HAMZI   \n",
       "\n",
       "         FIRSTNAME                                DEPARTMENT  \\\n",
       "0           Solenn              ASCEND Français - Individual   \n",
       "1  Redhouane Fouad  Francophonie Canadienne Plurielle (FRAP)   \n",
       "2             GAEL  Francophonie Canadienne Plurielle (FRAP)   \n",
       "3   KOUAME PATRICE  Francophonie Canadienne Plurielle (FRAP)   \n",
       "4           BATOUL                                      AFRY   \n",
       "\n",
       "  CERTIFICATIONDATE  EXPIRYDATE  EXPIRESINDAYS           TYPE  \n",
       "0  2023-08-09 16:17         NaN            NaN  Online Course  \n",
       "1  2024-11-22 17:12         NaN            NaN  Online Course  \n",
       "2  2024-12-03 21:20         NaN            NaN  Online Course  \n",
       "3  2024-12-01 20:49         NaN            NaN  Online Course  \n",
       "4   2024-10-25 7:26         NaN            NaN  Online Course  "
      ]
     },
     "execution_count": 3,
     "metadata": {},
     "output_type": "execute_result"
    }
   ],
   "source": [
    "# Load the dataset\n",
    "\n",
    "ascend_certificates = pd.read_csv('C:/Users/BrindhaGanesan/OneDrive - IMMIGRANT EMPLOYMENT COUNCIL OF BC SOCIETY/Documents/ASCEND/Datasets/ascend_certificates.csv')\n",
    "ascend_certificates.head()\n"
   ]
  },
  {
   "cell_type": "code",
   "execution_count": 5,
   "id": "d63fcf09-3c91-40b4-a8fe-c492fcdc05d8",
   "metadata": {},
   "outputs": [
    {
     "name": "stdout",
     "output_type": "stream",
     "text": [
      "<class 'pandas.core.frame.DataFrame'>\n",
      "RangeIndex: 188 entries, 0 to 187\n",
      "Data columns (total 8 columns):\n",
      " #   Column             Non-Null Count  Dtype  \n",
      "---  ------             --------------  -----  \n",
      " 0   COURSE             188 non-null    object \n",
      " 1   LASTNAME           188 non-null    object \n",
      " 2   FIRSTNAME          188 non-null    object \n",
      " 3   DEPARTMENT         188 non-null    object \n",
      " 4   CERTIFICATIONDATE  188 non-null    object \n",
      " 5   EXPIRYDATE         0 non-null      float64\n",
      " 6   EXPIRESINDAYS      0 non-null      float64\n",
      " 7   TYPE               188 non-null    object \n",
      "dtypes: float64(2), object(6)\n",
      "memory usage: 11.9+ KB\n"
     ]
    }
   ],
   "source": [
    "ascend_certificates.info()"
   ]
  },
  {
   "cell_type": "code",
   "execution_count": 7,
   "id": "63570eaf-e4fa-4270-b888-3e67d275c672",
   "metadata": {},
   "outputs": [
    {
     "data": {
      "text/plain": [
       "(188, 8)"
      ]
     },
     "execution_count": 7,
     "metadata": {},
     "output_type": "execute_result"
    }
   ],
   "source": [
    "ascend_certificates.shape"
   ]
  },
  {
   "cell_type": "code",
   "execution_count": 9,
   "id": "7d8fb165-1364-4b71-9f49-ad5b755bfb99",
   "metadata": {},
   "outputs": [
    {
     "data": {
      "text/plain": [
       "COURSE\n",
       "Module 4: Building your job search and interview soft skills (Blended v.6)                76\n",
       "Your Certificate of Completion                                                            55\n",
       "Module 4 : Développer vos soft skills pour la recherche d’emploi et les entretiens V.4    18\n",
       "Module 4: Building your job search and interview soft skills (Online v.6)                 15\n",
       "Votre Certificat de Formation ASCEND                                                      13\n",
       "Module 4: Building your job search and interview soft skills (Individual v.5)              5\n",
       "Module 4 : Développer vos soft skills pour la recherche d’emploi et les entretiens V.3     1\n",
       "Module 4: Building your job search and interview soft skills (Facilitator v.4)             1\n",
       "Module 7: Career progression (Dummy)                                                       1\n",
       "Module 7: Career progression (Online v.3)                                                  1\n",
       "Module 7: Career progression (Online)                                                      1\n",
       "Your Certificate of Completion (Facilitator)                                               1\n",
       "Name: count, dtype: int64"
      ]
     },
     "execution_count": 9,
     "metadata": {},
     "output_type": "execute_result"
    }
   ],
   "source": [
    "ascend_certificates['COURSE'].value_counts()"
   ]
  },
  {
   "cell_type": "code",
   "execution_count": 11,
   "id": "78b79475-63c9-40c8-8295-e85b0307f7d0",
   "metadata": {},
   "outputs": [
    {
     "data": {
      "text/plain": [
       "DEPARTMENT\n",
       "Women's Enterprise Skills Training of Windsor Inc. (WEST)          42\n",
       "CVIMS International Students                                       24\n",
       "Douglas College (DC)                                               20\n",
       "Francophonie Canadienne Plurielle (FRAP)                           19\n",
       "English Online (EO)                                                13\n",
       "AFRY                                                               10\n",
       "Impact North Shore (INS)                                           10\n",
       "Regina Immigrant Women's Centre (RIWC)                              9\n",
       "Individual ASCEND participants                                      9\n",
       "Central Vancouver Island Multicultural Society (CVIMS)              6\n",
       "Skeena Diversity Society                                            5\n",
       "Immigrant Employment Council of BC                                  5\n",
       "Vancouver Community College (VCC)                                   5\n",
       "Back in Motion (BIM)                                                4\n",
       "Association des Francophones du Nord‑Ouest de l’Ontario (AFNOO)     2\n",
       "Calgary Region Immigrant Employment Council (CRIEC)                 2\n",
       "ASCEND Français - Individual                                        1\n",
       "Progressive Intercultural Community Services (PICS) Society         1\n",
       "PIACS Facilitators                                                  1\n",
       "Name: count, dtype: int64"
      ]
     },
     "execution_count": 11,
     "metadata": {},
     "output_type": "execute_result"
    }
   ],
   "source": [
    "ascend_certificates['DEPARTMENT'].value_counts()"
   ]
  },
  {
   "cell_type": "code",
   "execution_count": 13,
   "id": "73472ba6-8b9f-4610-9877-ece4f7f23e6d",
   "metadata": {},
   "outputs": [
    {
     "data": {
      "text/plain": [
       "TYPE\n",
       "Online Course    188\n",
       "Name: count, dtype: int64"
      ]
     },
     "execution_count": 13,
     "metadata": {},
     "output_type": "execute_result"
    }
   ],
   "source": [
    "ascend_certificates['TYPE'].value_counts()"
   ]
  },
  {
   "cell_type": "code",
   "execution_count": null,
   "id": "75d074d5-dd65-40e5-a2d7-a97adfd3f6f0",
   "metadata": {},
   "outputs": [],
   "source": []
  }
 ],
 "metadata": {
  "kernelspec": {
   "display_name": "Python 3 (ipykernel)",
   "language": "python",
   "name": "python3"
  },
  "language_info": {
   "codemirror_mode": {
    "name": "ipython",
    "version": 3
   },
   "file_extension": ".py",
   "mimetype": "text/x-python",
   "name": "python",
   "nbconvert_exporter": "python",
   "pygments_lexer": "ipython3",
   "version": "3.12.7"
  }
 },
 "nbformat": 4,
 "nbformat_minor": 5
}
