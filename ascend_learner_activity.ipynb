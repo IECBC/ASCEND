{
 "cells": [
  {
   "cell_type": "code",
   "execution_count": 1,
   "id": "3d4a1bd6-70e1-4d18-a28a-9b87846597ab",
   "metadata": {},
   "outputs": [],
   "source": [
    "# Import the necessary modules\n",
    "\n",
    "import pandas as pd  # For data manipulation and analysis\n",
    "import numpy as np  # For numerical computations\n",
    "\n",
    "import matplotlib.pyplot as plt  # For plotting\n",
    "import seaborn as sns  # For statistical data visualization"
   ]
  },
  {
   "cell_type": "code",
   "execution_count": 3,
   "id": "f698b6b3-47c4-4281-88ff-4fb188e7e227",
   "metadata": {},
   "outputs": [
    {
     "data": {
      "text/html": [
       "<div>\n",
       "<style scoped>\n",
       "    .dataframe tbody tr th:only-of-type {\n",
       "        vertical-align: middle;\n",
       "    }\n",
       "\n",
       "    .dataframe tbody tr th {\n",
       "        vertical-align: top;\n",
       "    }\n",
       "\n",
       "    .dataframe thead th {\n",
       "        text-align: right;\n",
       "    }\n",
       "</style>\n",
       "<table border=\"1\" class=\"dataframe\">\n",
       "  <thead>\n",
       "    <tr style=\"text-align: right;\">\n",
       "      <th></th>\n",
       "      <th>FIRST NAME</th>\n",
       "      <th>LAST NAME</th>\n",
       "      <th>USERNAME</th>\n",
       "      <th>DEPARTMENT</th>\n",
       "      <th>PROGRAM VERSION</th>\n",
       "      <th>COHORT NAME</th>\n",
       "      <th>ENROLLMENTS</th>\n",
       "      <th>COURSES STARTED</th>\n",
       "      <th>COURSES COMPLETED</th>\n",
       "      <th>FIRST LOGGED IN</th>\n",
       "      <th>LAST LOGGED IN</th>\n",
       "      <th>TIME SPENT (MIN)</th>\n",
       "    </tr>\n",
       "  </thead>\n",
       "  <tbody>\n",
       "    <tr>\n",
       "      <th>0</th>\n",
       "      <td>Abdul Wali</td>\n",
       "      <td>Rasta</td>\n",
       "      <td>Wali.rasta1@gmail.com</td>\n",
       "      <td>Central Vancouver Island Multicultural Society...</td>\n",
       "      <td>Blended</td>\n",
       "      <td>CVIMS Oct - Dec, 2024</td>\n",
       "      <td>9</td>\n",
       "      <td>6</td>\n",
       "      <td>5</td>\n",
       "      <td>2024-10-28 10:12:13 AM</td>\n",
       "      <td>2024-12-11 11:08:28 AM</td>\n",
       "      <td>240</td>\n",
       "    </tr>\n",
       "    <tr>\n",
       "      <th>1</th>\n",
       "      <td>Abin</td>\n",
       "      <td>Varghese</td>\n",
       "      <td>abinvarghese16291@gmail.com</td>\n",
       "      <td>CVIMS International Students</td>\n",
       "      <td>Blended</td>\n",
       "      <td>CVIMS2 Oct - Dec, 2024</td>\n",
       "      <td>11</td>\n",
       "      <td>10</td>\n",
       "      <td>10</td>\n",
       "      <td>2024-10-28 11:03:24 AM</td>\n",
       "      <td>2024-12-10 8:38:48 AM</td>\n",
       "      <td>907</td>\n",
       "    </tr>\n",
       "    <tr>\n",
       "      <th>2</th>\n",
       "      <td>ACHILLE</td>\n",
       "      <td>AKOUGOUM</td>\n",
       "      <td>achilleakougoum3@gmail.com</td>\n",
       "      <td>Francophonie Canadienne Plurielle (FRAP)</td>\n",
       "      <td>French</td>\n",
       "      <td>FRAP Nov- Dec, 2024</td>\n",
       "      <td>9</td>\n",
       "      <td>0</td>\n",
       "      <td>0</td>\n",
       "      <td>2024-11-08 9:02:17 PM</td>\n",
       "      <td>2024-11-08 9:02:17 PM</td>\n",
       "      <td>0</td>\n",
       "    </tr>\n",
       "    <tr>\n",
       "      <th>3</th>\n",
       "      <td>ADAMA</td>\n",
       "      <td>OUATTARA</td>\n",
       "      <td>ademouattara@gmail.com</td>\n",
       "      <td>Francophonie Canadienne Plurielle (FRAP)</td>\n",
       "      <td>French</td>\n",
       "      <td>FRAP Nov- Dec, 2024</td>\n",
       "      <td>9</td>\n",
       "      <td>8</td>\n",
       "      <td>7</td>\n",
       "      <td>2024-11-06 6:23:08 PM</td>\n",
       "      <td>2024-12-08 10:16:19 AM</td>\n",
       "      <td>1902</td>\n",
       "    </tr>\n",
       "    <tr>\n",
       "      <th>4</th>\n",
       "      <td>Adebunmi</td>\n",
       "      <td>Aina</td>\n",
       "      <td>adebunmiaina@gmail.com</td>\n",
       "      <td>Regina Immigrant Women's Centre (RIWC)</td>\n",
       "      <td>Blended</td>\n",
       "      <td>RIWC Oct - Dec, 2024</td>\n",
       "      <td>9</td>\n",
       "      <td>4</td>\n",
       "      <td>3</td>\n",
       "      <td>2024-10-16 8:20:14 AM</td>\n",
       "      <td>2024-12-09 10:01:18 PM</td>\n",
       "      <td>344</td>\n",
       "    </tr>\n",
       "  </tbody>\n",
       "</table>\n",
       "</div>"
      ],
      "text/plain": [
       "   FIRST NAME LAST NAME                     USERNAME  \\\n",
       "0  Abdul Wali     Rasta        Wali.rasta1@gmail.com   \n",
       "1        Abin  Varghese  abinvarghese16291@gmail.com   \n",
       "2     ACHILLE  AKOUGOUM   achilleakougoum3@gmail.com   \n",
       "3       ADAMA  OUATTARA       ademouattara@gmail.com   \n",
       "4    Adebunmi      Aina       adebunmiaina@gmail.com   \n",
       "\n",
       "                                          DEPARTMENT PROGRAM VERSION  \\\n",
       "0  Central Vancouver Island Multicultural Society...         Blended   \n",
       "1                       CVIMS International Students         Blended   \n",
       "2           Francophonie Canadienne Plurielle (FRAP)          French   \n",
       "3           Francophonie Canadienne Plurielle (FRAP)          French   \n",
       "4             Regina Immigrant Women's Centre (RIWC)         Blended   \n",
       "\n",
       "              COHORT NAME  ENROLLMENTS  COURSES STARTED  COURSES COMPLETED  \\\n",
       "0   CVIMS Oct - Dec, 2024            9                6                  5   \n",
       "1  CVIMS2 Oct - Dec, 2024           11               10                 10   \n",
       "2     FRAP Nov- Dec, 2024            9                0                  0   \n",
       "3     FRAP Nov- Dec, 2024            9                8                  7   \n",
       "4    RIWC Oct - Dec, 2024            9                4                  3   \n",
       "\n",
       "          FIRST LOGGED IN          LAST LOGGED IN  TIME SPENT (MIN)  \n",
       "0  2024-10-28 10:12:13 AM  2024-12-11 11:08:28 AM               240  \n",
       "1  2024-10-28 11:03:24 AM   2024-12-10 8:38:48 AM               907  \n",
       "2   2024-11-08 9:02:17 PM   2024-11-08 9:02:17 PM                 0  \n",
       "3   2024-11-06 6:23:08 PM  2024-12-08 10:16:19 AM              1902  \n",
       "4   2024-10-16 8:20:14 AM  2024-12-09 10:01:18 PM               344  "
      ]
     },
     "execution_count": 3,
     "metadata": {},
     "output_type": "execute_result"
    }
   ],
   "source": [
    "# Load the dataset\n",
    "\n",
    "ascend_learner_activity = pd.read_csv('C:/Users/BrindhaGanesan/OneDrive - IMMIGRANT EMPLOYMENT COUNCIL OF BC SOCIETY/Documents/ASCEND/Datasets/ascend_learner_activity.csv')\n",
    "ascend_learner_activity.head()\n"
   ]
  },
  {
   "cell_type": "code",
   "execution_count": 5,
   "id": "da5f365f-d0cf-47ae-a36d-157838a974f3",
   "metadata": {},
   "outputs": [
    {
     "name": "stdout",
     "output_type": "stream",
     "text": [
      "<class 'pandas.core.frame.DataFrame'>\n",
      "RangeIndex: 324 entries, 0 to 323\n",
      "Data columns (total 12 columns):\n",
      " #   Column             Non-Null Count  Dtype \n",
      "---  ------             --------------  ----- \n",
      " 0   FIRST NAME         324 non-null    object\n",
      " 1   LAST NAME          324 non-null    object\n",
      " 2   USERNAME           324 non-null    object\n",
      " 3   DEPARTMENT         324 non-null    object\n",
      " 4   PROGRAM VERSION    317 non-null    object\n",
      " 5   COHORT NAME        315 non-null    object\n",
      " 6   ENROLLMENTS        324 non-null    int64 \n",
      " 7   COURSES STARTED    324 non-null    int64 \n",
      " 8   COURSES COMPLETED  324 non-null    int64 \n",
      " 9   FIRST LOGGED IN    321 non-null    object\n",
      " 10  LAST LOGGED IN     321 non-null    object\n",
      " 11  TIME SPENT (MIN)   324 non-null    int64 \n",
      "dtypes: int64(4), object(8)\n",
      "memory usage: 30.5+ KB\n"
     ]
    }
   ],
   "source": [
    "ascend_learner_activity.info()"
   ]
  },
  {
   "cell_type": "code",
   "execution_count": 7,
   "id": "aa10581f-5ac8-4aae-9b3c-e8e40fc2299e",
   "metadata": {},
   "outputs": [
    {
     "data": {
      "text/plain": [
       "(324, 12)"
      ]
     },
     "execution_count": 7,
     "metadata": {},
     "output_type": "execute_result"
    }
   ],
   "source": [
    "ascend_learner_activity.shape"
   ]
  },
  {
   "cell_type": "code",
   "execution_count": 9,
   "id": "7339807f-1fe5-4234-a81f-0c0323f8458d",
   "metadata": {},
   "outputs": [
    {
     "data": {
      "text/plain": [
       "DEPARTMENT\n",
       "Francophonie Canadienne Plurielle (FRAP)                           37\n",
       "Women's Enterprise Skills Training of Windsor Inc. (WEST)          29\n",
       "Individual ASCEND participants                                     22\n",
       "Douglas College (DC)                                               20\n",
       "Regina Immigrant Women's Centre (RIWC)                             19\n",
       "CVIMS International Students                                       19\n",
       "Impact North Shore (INS)                                           15\n",
       "Immigrant Employment Council of BC                                 12\n",
       "English Online (EO)                                                11\n",
       "ISS of BC                                                          10\n",
       "Victoria Immigrant Refugee Centre Society (VIRCS)                   9\n",
       "Pacific Immigrant Resources Society (PIRS)                          9\n",
       "Vancouver Community College (VCC)                                   8\n",
       "Progressive Intercultural Community Services (PICS) Society         7\n",
       "Back in Motion (BIM)                                                7\n",
       "Central Vancouver Island Multicultural Society (CVIMS)              7\n",
       "Rooted Connections (previously CFS Regina)                          7\n",
       "Polycultural Immigrant & Community Services (PIACS)                 6\n",
       "Lethbridge Family Services (LFS)                                    6\n",
       "CDENE                                                               5\n",
       "Facilitators                                                        5\n",
       "AFRY                                                                5\n",
       "Skeena Diversity Society                                            5\n",
       "PIRS Facilitators                                                   4\n",
       "ASCEND Français                                                     4\n",
       "Association des Francophones du Nord‑Ouest de l’Ontario (AFNOO)     4\n",
       "WEST Facilitator                                                    3\n",
       "DC Facilitators                                                     3\n",
       "Calgary Region Immigrant Employment Council (CRIEC)                 3\n",
       "FRAP Facilitators                                                   2\n",
       "CVIMS Facilitators                                                  2\n",
       "ASCEND Français - Individual                                        2\n",
       "PIACS Facilitators                                                  2\n",
       "CRIEC Facilitators                                                  2\n",
       "SDECB Facilitators                                                  2\n",
       "Rural Manitoba Immigrant Employment Council (RMIEC)                 1\n",
       "Training Department                                                 1\n",
       "Le Relais Francophone EN                                            1\n",
       "South Vancouver Neighbourhood House (SVNH)                          1\n",
       "CDENE Facilitators                                                  1\n",
       "NPower Facilitators                                                 1\n",
       "PDSB Facilitator                                                    1\n",
       "AFRY Facilitators                                                   1\n",
       "Peel District School Board (PDSB)                                   1\n",
       "SDECB                                                               1\n",
       "RIWC Facilitators                                                   1\n",
       "Name: count, dtype: int64"
      ]
     },
     "execution_count": 9,
     "metadata": {},
     "output_type": "execute_result"
    }
   ],
   "source": [
    "ascend_learner_activity[\"DEPARTMENT\"].value_counts()"
   ]
  },
  {
   "cell_type": "code",
   "execution_count": 11,
   "id": "af9ce1a6-ccfc-4a4d-add7-42e5ac0d170f",
   "metadata": {},
   "outputs": [
    {
     "data": {
      "text/plain": [
       "PROGRAM VERSION\n",
       "Blended               121\n",
       "Online                 81\n",
       "French                 55\n",
       "Facilitator            27\n",
       "Individual             23\n",
       "French Facilitator     10\n",
       "Name: count, dtype: int64"
      ]
     },
     "execution_count": 11,
     "metadata": {},
     "output_type": "execute_result"
    }
   ],
   "source": [
    "ascend_learner_activity['PROGRAM VERSION'].value_counts()"
   ]
  },
  {
   "cell_type": "code",
   "execution_count": 13,
   "id": "cbc86b8d-3da5-41eb-81d9-db4bdb1f03d2",
   "metadata": {},
   "outputs": [
    {
     "data": {
      "text/plain": [
       "COHORT NAME\n",
       "FRAP Nov- Dec, 2024                   37\n",
       "DC Oct - Dec, 2024                    20\n",
       "RIWC Oct - Dec, 2024                  18\n",
       "WEST EWE Oct - Dec, 2024              18\n",
       "CVIMS2 Oct - Dec, 2024                17\n",
       "INS Oct - Dec, 2024                   15\n",
       "Individuals Nov - Dec, 2024           14\n",
       "ISS of BC (Dec - Jan, 2025)           10\n",
       "EO Oct - Dec, 2024                    10\n",
       "WEST ELT Sep - Dec, 2024              10\n",
       "VIRCS (Dec-Jan, 2025)                  9\n",
       "PIRS Dec - Jan, 2025                   9\n",
       "Individuals (Dec - Jan, 2025)          8\n",
       "CVIMS Oct - Dec, 2024                  7\n",
       "PICS Oct - Dec, 2024                   7\n",
       "Rooted Connections Nov - Jan, 2025     7\n",
       "VCC Oct - Dec, 2024                    7\n",
       "BIM Oct - Dec, 2024                    7\n",
       "PIACS (Dec - Jan 2025)                 6\n",
       "LFS Dec - Jan, 2025                    6\n",
       "Programme Français - Animateur         5\n",
       "Skeena Oct - Dec, 2024                 5\n",
       "CDENE Dec - Jan, 2025                  5\n",
       "AFRY Oct - Dec, 2024                   5\n",
       "AFNOO Nov - Jan, 2025                  4\n",
       "IEC-BC Facilitator                     4\n",
       "CRIEC Nov - Dec, 2024                  3\n",
       "IECBC Facilitator                      3\n",
       "WEST Facilitator                       2\n",
       "PIACS-Facilitator                      2\n",
       "FRAP Facilitators                      2\n",
       "CRIEC Facilitator                      2\n",
       "DC Facilitator                         2\n",
       "Le Relais Facilitator                  2\n",
       "PIRS Facilitator                       2\n",
       "CVIMS2 May - Jul, 2024                 2\n",
       "IECBC-Facilitator                      1\n",
       "Le Relais Nov-Dec 2023 FR              1\n",
       "RMIEC-Dec-2024                         1\n",
       "CVIMS - (May - Jul 2022)               1\n",
       "SVNH - (Apr - Jun 2022)                1\n",
       "Training                               1\n",
       "WEST EWE - (May - Jun 2022)            1\n",
       "French Individual                      1\n",
       "NPower Facilitator                     1\n",
       "RIWC - Facilitator                     1\n",
       "CVIMS Facilitator                      1\n",
       "pre-partner-2023                       1\n",
       "ASCEND Testers - (Mar - May 2022)      1\n",
       "EO Aug - Sep, 2024                     1\n",
       "PDSB Oct - Dec, 2024                   1\n",
       "VCC Jul - Aug, 2024                    1\n",
       "DC Facilitators                        1\n",
       "Individuals Fr Nov - Dec, 2024         1\n",
       "RIWC Jul - Sep, 2024                   1\n",
       "WEST-ELT (Sep - Nov 2022)              1\n",
       "Master-Facilitator                     1\n",
       "CDENE Facilitators                     1\n",
       "SDECB (Sep - Nov 2022)                 1\n",
       "Name: count, dtype: int64"
      ]
     },
     "execution_count": 13,
     "metadata": {},
     "output_type": "execute_result"
    }
   ],
   "source": [
    "ascend_learner_activity['COHORT NAME'].value_counts()"
   ]
  },
  {
   "cell_type": "code",
   "execution_count": null,
   "id": "000c570d-6cf2-4c9c-b4a6-ef1e8042eea4",
   "metadata": {},
   "outputs": [],
   "source": []
  }
 ],
 "metadata": {
  "kernelspec": {
   "display_name": "Python 3 (ipykernel)",
   "language": "python",
   "name": "python3"
  },
  "language_info": {
   "codemirror_mode": {
    "name": "ipython",
    "version": 3
   },
   "file_extension": ".py",
   "mimetype": "text/x-python",
   "name": "python",
   "nbconvert_exporter": "python",
   "pygments_lexer": "ipython3",
   "version": "3.12.7"
  }
 },
 "nbformat": 4,
 "nbformat_minor": 5
}
